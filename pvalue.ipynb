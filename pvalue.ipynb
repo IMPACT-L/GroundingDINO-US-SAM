{
 "cells": [
  {
   "cell_type": "code",
   "execution_count": 2,
   "id": "827139a7-7b8a-4955-900b-62f3bb77b232",
   "metadata": {},
   "outputs": [],
   "source": [
    "import numpy as np\n",
    "from scipy.stats import ttest_ind,ttest_rel\n",
    "def getResult(file):\n",
    "    f = open(file, \"r\")\n",
    "    res = f.readlines()[-1]\n",
    "    f.close()\n",
    "    lst = []\n",
    "    for i in res[1:-1].split(', '):\n",
    "        lst.append(float(i.replace(']','')))\n",
    "    return np.array(lst)\n"
   ]
  },
  {
   "cell_type": "code",
   "execution_count": 3,
   "id": "2cc662ea-835d-4cee-85df-1a565b18bb6c",
   "metadata": {},
   "outputs": [],
   "source": [
    "def pvalue(x1,x2):\n",
    "    t_statistic, p_value = ttest_rel(x1.mean(axis=0), x2.mean(axis=0))\n",
    "    return p_value\n",
    "    # return ttest_ind(x1.mean(axis=0), x2.mean(axis=0)).pvalue"
   ]
  },
  {
   "cell_type": "code",
   "execution_count": 12,
   "id": "1e88a60b-a192-48fb-b684-a3a9ae16954e",
   "metadata": {},
   "outputs": [
    {
     "name": "stdout",
     "output_type": "stream",
     "text": [
      "10% -> 84.87+-9\n",
      "20% -> 91.95+-9\n",
      "30% -> 93.14+-6\n",
      "100% -> 96.54+-4\n"
     ]
    }
   ],
   "source": [
    "c1_100 = []\n",
    "c1_10 = []\n",
    "c1_20 = []\n",
    "# c1_25 = []\n",
    "c1_30 = []\n",
    "\n",
    "for fold in range(1,6):\n",
    "    c1_100.append(getResult(f\"fix-match-supervised-1-classes-100/dataset-info_fold_{fold}.txt\"))\n",
    "    c1_10.append(getResult(f\"fix-match-supervised-1-classes-10/dataset-info_fold_{fold}.txt\"))\n",
    "    c1_20.append(getResult(f\"fix-match-supervised-1-classes-20/dataset-info_fold_{fold}.txt\"))\n",
    "    # c1_25.append(getResult(f\"fix-match-supervised-1-classes-25/dataset-info_fold_{fold}.txt\"))\n",
    "    c1_30.append(getResult(f\"fix-match-supervised-1-classes-30/dataset-info_fold_{fold}.txt\"))\n",
    "\n",
    "c1_100 = np.array(c1_100)\n",
    "c1_10 = np.array(c1_10)\n",
    "c1_20 = np.array(c1_20)\n",
    "# c1_25 = np.array(c1_25)\n",
    "c1_30 = np.array(c1_30)\n",
    "\n",
    "print(f'10% -> {100*c1_10.mean():.2f}+-{100*c1_10.std():.0f}')\n",
    "print(f'20% -> {100*c1_20.mean():.2f}+-{100*c1_20.std():.0f}')\n",
    "print(f'30% -> {100*c1_30.mean():.2f}+-{100*c1_30.std():.0f}')\n",
    "print(f'100% -> {100*c1_100.mean():.2f}+-{100*c1_100.std():.0f}')\n"
   ]
  },
  {
   "cell_type": "code",
   "execution_count": 15,
   "id": "0992bb4e-b198-4800-aa24-35d37dc4a4b3",
   "metadata": {},
   "outputs": [
    {
     "name": "stdout",
     "output_type": "stream",
     "text": [
      "10% -> 93.60+-7\n",
      "20% -> 95.02+-5\n",
      "30% -> 96.27+-4\n"
     ]
    }
   ],
   "source": [
    "sc1_10 = []\n",
    "sc1_20 = []\n",
    "# sc1_25 = []\n",
    "sc1_30 = []\n",
    "for fold in range(1,6):\n",
    "    sc1_10.append(getResult(f\"fix-match-self-supervised-1-classes-10/dataset-info_fold_{fold}.txt\"))\n",
    "    sc1_20.append(getResult(f\"fix-match-self-supervised-1-classes-20/dataset-info_fold_{fold}.txt\"))\n",
    "    # sc1_25.append(getResult(f\"fix-match-self-supervised-1-classes-25/dataset-info_fold_{fold}.txt\"))\n",
    "    sc1_30.append(getResult(f\"fix-match-self-supervised-1-classes-30/dataset-info_fold_{fold}.txt\"))\n",
    "\n",
    "sc1_10 = np.array(sc1_10)\n",
    "sc1_20 = np.array(sc1_20)\n",
    "# sc1_25 = np.array(sc1_25)\n",
    "sc1_30 = np.array(sc1_30)\n",
    "\n",
    "print(f'10% -> {100*sc1_10.mean():.2f}+-{100*sc1_10.std():.0f}')\n",
    "print(f'20% -> {100*sc1_20.mean():.2f}+-{100*sc1_20.std():.0f}')\n",
    "print(f'30% -> {100*sc1_30.mean():.2f}+-{100*sc1_30.std():.0f}')\n"
   ]
  },
  {
   "cell_type": "code",
   "execution_count": 19,
   "id": "be9ebc64-6c01-476d-bee8-6ec646909a99",
   "metadata": {},
   "outputs": [
    {
     "name": "stdout",
     "output_type": "stream",
     "text": [
      "pvalue-10% -> 8e-07\n",
      "pvalue-20% -> 1e-03\n",
      "pvalue-30% -> 4e-04\n"
     ]
    }
   ],
   "source": [
    "print(f'pvalue-10% -> {pvalue(sc1_10,c1_10):.0e}')\n",
    "print(f'pvalue-20% -> {pvalue(sc1_20,c1_20):.0e}')\n",
    "# print(f'25% -> {pvalue(sc1_25,c1_25):.4f}')\n",
    "print(f'pvalue-30% -> {pvalue(sc1_30,c1_30):.0e}')\n",
    "# pvalue-10% -> 0.0000\n",
    "# pvalue-20% -> 0.0082\n",
    "# pvalue-30% -> 0.0001"
   ]
  },
  {
   "cell_type": "code",
   "execution_count": 16,
   "id": "72992bcc-581f-44d6-84bd-d7b112cd4ca9",
   "metadata": {},
   "outputs": [
    {
     "name": "stdout",
     "output_type": "stream",
     "text": [
      "10% -> 89.29+-9\n",
      "20% -> 93.09+-7\n",
      "30% -> 93.64+-7\n",
      "100% -> 97.00+-3\n"
     ]
    }
   ],
   "source": [
    "c3_100 = []\n",
    "c3_10 = []\n",
    "c3_20 = []\n",
    "# c3_25 = []\n",
    "c3_30 = []\n",
    "for fold in range(1,6):\n",
    "    c3_100.append(getResult(f\"fix-match-supervised-3-classes-100/dataset-info_fold_{fold}.txt\"))\n",
    "    c3_10.append(getResult(f\"fix-match-supervised-3-classes-10/dataset-info_fold_{fold}.txt\"))\n",
    "    c3_20.append(getResult(f\"fix-match-supervised-3-classes-20/dataset-info_fold_{fold}.txt\"))\n",
    "    # c3_25.append(getResult(f\"fix-match-supervised-3-classes-25/dataset-info_fold_{fold}.txt\"))\n",
    "    c3_30.append(getResult(f\"fix-match-supervised-3-classes-30/dataset-info_fold_{fold}.txt\"))\n",
    "\n",
    "c3_100 = np.array(c3_100)\n",
    "c3_10 = np.array(c3_10)\n",
    "c3_20 = np.array(c3_20)\n",
    "# c3_25 = np.array(c3_25)\n",
    "c3_30 = np.array(c3_30)\n",
    "\n",
    "print(f'10% -> {100*c3_10.mean():.2f}+-{100*c3_10.std():.0f}')\n",
    "print(f'20% -> {100*c3_20.mean():.2f}+-{100*c3_20.std():.0f}')\n",
    "print(f'30% -> {100*c3_30.mean():.2f}+-{100*c3_30.std():.0f}')\n",
    "print(f'100% -> {100*c3_100.mean():.2f}+-{100*c3_100.std():.0f}')"
   ]
  },
  {
   "cell_type": "code",
   "execution_count": null,
   "id": "e50a7885-c747-41c4-9cee-707a149236bf",
   "metadata": {},
   "outputs": [],
   "source": []
  },
  {
   "cell_type": "code",
   "execution_count": 20,
   "id": "8e8cb5fa-7d29-4914-9900-0584c31ae936",
   "metadata": {},
   "outputs": [
    {
     "name": "stdout",
     "output_type": "stream",
     "text": [
      "10% -> 93.48+-6\n",
      "20% -> 95.04+-5\n",
      "30% -> 96.40+-3\n"
     ]
    }
   ],
   "source": [
    "sc3_10 = []\n",
    "sc3_20 = []\n",
    "# sc3_25 = []\n",
    "sc3_30 = []\n",
    "for fold in range(1,6):\n",
    "    sc3_10.append(getResult(f\"fix-match-self-supervised-3-classes-10/dataset-info_fold_{fold}.txt\"))\n",
    "    sc3_20.append(getResult(f\"fix-match-self-supervised-3-classes-20/dataset-info_fold_{fold}.txt\"))\n",
    "    # sc3_25.append(getResult(f\"fix-match-self-supervised-3-classes-25/dataset-info_fold_{fold}.txt\"))\n",
    "    sc3_30.append(getResult(f\"fix-match-self-supervised-3-classes-30/dataset-info_fold_{fold}.txt\"))\n",
    "\n",
    "sc3_10 = np.array(sc3_10)\n",
    "sc3_20 = np.array(sc3_20)\n",
    "# sc3_25 = np.array(sc3_25)\n",
    "sc3_30 = np.array(sc3_30)\n",
    "\n",
    "print(f'10% -> {100*sc3_10.mean():.2f}+-{100*sc3_10.std():.0f}')\n",
    "print(f'20% -> {100*sc3_20.mean():.2f}+-{100*sc3_20.std():.0f}')\n",
    "print(f'30% -> {100*sc3_30.mean():.2f}+-{100*sc3_30.std():.0f}')\n"
   ]
  },
  {
   "cell_type": "code",
   "execution_count": 23,
   "id": "a565d423-e2ba-47fa-bb6b-9a504b74fc42",
   "metadata": {},
   "outputs": [
    {
     "name": "stdout",
     "output_type": "stream",
     "text": [
      "pvalue-10% -> 3e-03\n",
      "pvalue-20% -> 6e-02\n",
      "pvalue-30% -> 1e-02\n"
     ]
    }
   ],
   "source": [
    "print(f'pvalue-10% -> {pvalue(sc3_10,c3_10):.0e}')\n",
    "print(f'pvalue-20% -> {pvalue(sc3_20,c3_20):.0e}')\n",
    "# print(f'{pvalue(sc3_25,c3_25):.4f}')\n",
    "print(f'pvalue-30% -> {pvalue(sc3_30,c3_30):.0e}')\n"
   ]
  },
  {
   "cell_type": "code",
   "execution_count": 9,
   "id": "7ba52dba-5024-4ab0-8458-cf6647810350",
   "metadata": {},
   "outputs": [
    {
     "data": {
      "text/plain": [
       "0.9640038611641086"
      ]
     },
     "execution_count": 9,
     "metadata": {},
     "output_type": "execute_result"
    }
   ],
   "source": [
    "sc3_30.mean(axis=0).mean()"
   ]
  },
  {
   "cell_type": "code",
   "execution_count": 10,
   "id": "a4e21258-4497-4e52-a52d-44fb2e839163",
   "metadata": {},
   "outputs": [
    {
     "data": {
      "text/plain": [
       "0.9364394156047311"
      ]
     },
     "execution_count": 10,
     "metadata": {},
     "output_type": "execute_result"
    }
   ],
   "source": [
    "c3_30.mean(axis=0).mean()"
   ]
  },
  {
   "cell_type": "code",
   "execution_count": null,
   "id": "f4f91596-a46b-4ca1-83f0-c07a62304bfa",
   "metadata": {},
   "outputs": [],
   "source": []
  }
 ],
 "metadata": {
  "kernelspec": {
   "display_name": "jgh",
   "language": "python",
   "name": "jgh"
  },
  "language_info": {
   "codemirror_mode": {
    "name": "ipython",
    "version": 3
   },
   "file_extension": ".py",
   "mimetype": "text/x-python",
   "name": "python",
   "nbconvert_exporter": "python",
   "pygments_lexer": "ipython3",
   "version": "3.10.11"
  }
 },
 "nbformat": 4,
 "nbformat_minor": 5
}
